{
 "cells": [
  {
   "cell_type": "code",
   "execution_count": 33,
   "id": "2e33df85",
   "metadata": {},
   "outputs": [],
   "source": [
    "s = \"this is My First Python programming class and i am learNING python string and its function\"\n"
   ]
  },
  {
   "cell_type": "code",
   "execution_count": null,
   "id": "f7a9e5ee",
   "metadata": {},
   "outputs": [],
   "source": [
    "#1 . Try to extract data from index one to index 300 with a jump of 3 \n",
    "s[1:300:3]"
   ]
  },
  {
   "cell_type": "code",
   "execution_count": 57,
   "id": "ce596933",
   "metadata": {},
   "outputs": [
    {
     "data": {
      "text/plain": [
       "'noitcnuf sti dna gnirts nohtyp GNINrael ma i dna ssalc gnimmargorp nohtyP tsriF yM si siht'"
      ]
     },
     "execution_count": 57,
     "metadata": {},
     "output_type": "execute_result"
    }
   ],
   "source": [
    "#2. Try to reverse a string without using reverse function \n",
    "s[-1::-1]"
   ]
  },
  {
   "cell_type": "code",
   "execution_count": 59,
   "id": "b6534030",
   "metadata": {},
   "outputs": [
    {
     "data": {
      "text/plain": [
       "['this',\n",
       " 'is',\n",
       " 'My',\n",
       " 'First',\n",
       " 'Python',\n",
       " 'programming',\n",
       " 'class',\n",
       " 'and',\n",
       " 'i',\n",
       " 'am',\n",
       " 'learNING',\n",
       " 'python',\n",
       " 'string',\n",
       " 'and',\n",
       " 'its',\n",
       " 'function']"
      ]
     },
     "execution_count": 59,
     "metadata": {},
     "output_type": "execute_result"
    }
   ],
   "source": [
    "#3. Try to split a string after conversion of entire string in uppercase\n",
    "\n",
    "s.upper()\n",
    "s.split()"
   ]
  },
  {
   "cell_type": "code",
   "execution_count": 60,
   "id": "2b7d6141",
   "metadata": {},
   "outputs": [
    {
     "data": {
      "text/plain": [
       "'this is my first python programming class and i am learning python string and its function'"
      ]
     },
     "execution_count": 60,
     "metadata": {},
     "output_type": "execute_result"
    }
   ],
   "source": [
    "#4. try to convert the whole string into lower case \n",
    "\n",
    "s.lower()"
   ]
  },
  {
   "cell_type": "code",
   "execution_count": 61,
   "id": "36db8a47",
   "metadata": {},
   "outputs": [
    {
     "data": {
      "text/plain": [
       "'This is my first python programming class and i am learning python string and its function'"
      ]
     },
     "execution_count": 61,
     "metadata": {},
     "output_type": "execute_result"
    }
   ],
   "source": [
    "#5 . Try to capitalize the whole string \n",
    "\n",
    "s.capitalize()"
   ]
  },
  {
   "cell_type": "code",
   "execution_count": 62,
   "id": "89447aff",
   "metadata": {},
   "outputs": [],
   "source": [
    "#6 . Write a diference between isalnum() and isalpha()\n",
    "\n",
    "#Python isalnum() only returns true if a string contains alphanumeric characters.\n",
    "#The isalpha() method returns True if all characters in the string are alphabets."
   ]
  },
  {
   "cell_type": "code",
   "execution_count": 63,
   "id": "e0248957",
   "metadata": {},
   "outputs": [
    {
     "data": {
      "text/plain": [
       "'H e l l o'"
      ]
     },
     "execution_count": 63,
     "metadata": {},
     "output_type": "execute_result"
    }
   ],
   "source": [
    "#7. Try to give an example of expand tab\n",
    "\n",
    "s3 = \"H\\te\\tl\\tl\\to\"\n",
    "s3.expandtabs(2)"
   ]
  },
  {
   "cell_type": "code",
   "execution_count": 64,
   "id": "ce56f740",
   "metadata": {},
   "outputs": [
    {
     "data": {
      "text/plain": [
       "'Hello    '"
      ]
     },
     "execution_count": 64,
     "metadata": {},
     "output_type": "execute_result"
    }
   ],
   "source": [
    "#8 . Give an example of strip , lstrip and rstrip \n",
    "\n",
    "s3 = \"    Hello    \"\n",
    "s3.strip()\n",
    "s3.rstrip()\n",
    "s3.lstrip()"
   ]
  },
  {
   "cell_type": "code",
   "execution_count": 67,
   "id": "06c4e929",
   "metadata": {},
   "outputs": [
    {
     "data": {
      "text/plain": [
       "'MZnZbendrZ'"
      ]
     },
     "execution_count": 67,
     "metadata": {},
     "output_type": "execute_result"
    }
   ],
   "source": [
    "#9.  Replace a string charecter by another charector by taking your own example \"sudhanshu\"\n",
    "\n",
    "s3=\"Manabendra\"\n",
    "s3.replace(\"a\",\"Z\")"
   ]
  },
  {
   "cell_type": "code",
   "execution_count": 68,
   "id": "1bb1632c",
   "metadata": {},
   "outputs": [
    {
     "data": {
      "text/plain": [
       "'       banana       '"
      ]
     },
     "execution_count": 68,
     "metadata": {},
     "output_type": "execute_result"
    }
   ],
   "source": [
    "#10 . Try  to give a defination of string center function with and exmple \n",
    "\n",
    "s4=\"banana\"\n",
    "s4.center(20)"
   ]
  },
  {
   "cell_type": "code",
   "execution_count": 69,
   "id": "13fac7ea",
   "metadata": {},
   "outputs": [],
   "source": [
    "#11 . Write your own definition of compiler and interpretor without copy paste form internet in your own language\n",
    "\n",
    "#Compiler: A compiler is a program that processes statements written in a particular programming language like C, Java and turns them into machine language or \"code\" that a computer's processor uses. \n"
   ]
  },
  {
   "cell_type": "code",
   "execution_count": 70,
   "id": "f0e57c86",
   "metadata": {},
   "outputs": [],
   "source": [
    "#12 . Python is a interpreted of compiled language give a clear ans with your understanding \n",
    "\n",
    "#Python is an interpreted language, which means the source code of a Python program is converted into bytecode that is then executed by the Python virtual machine. "
   ]
  },
  {
   "cell_type": "code",
   "execution_count": 71,
   "id": "20b0aa0c",
   "metadata": {},
   "outputs": [],
   "source": [
    "#13 . Try to write a usecase of python with your understanding \n",
    "\n",
    "#Take an input string and find out how many vowels are there in the string, also no. of times the vowels appears in the string\n",
    "\n"
   ]
  },
  {
   "cell_type": "code",
   "execution_count": null,
   "id": "e2594bdd",
   "metadata": {},
   "outputs": [],
   "source": []
  }
 ],
 "metadata": {
  "kernelspec": {
   "display_name": "Python 3 (ipykernel)",
   "language": "python",
   "name": "python3"
  },
  "language_info": {
   "codemirror_mode": {
    "name": "ipython",
    "version": 3
   },
   "file_extension": ".py",
   "mimetype": "text/x-python",
   "name": "python",
   "nbconvert_exporter": "python",
   "pygments_lexer": "ipython3",
   "version": "3.9.7"
  }
 },
 "nbformat": 4,
 "nbformat_minor": 5
}
