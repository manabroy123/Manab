{
 "cells": [
  {
   "cell_type": "code",
   "execution_count": 24,
   "id": "1af856ca",
   "metadata": {},
   "outputs": [
    {
     "name": "stdout",
     "output_type": "stream",
     "text": [
      "ineruon  \n",
      "\n",
      "ineruon  ineruon  \n",
      "\n",
      "ineruon  ineruon  ineruon  \n",
      "\n",
      "ineruon  ineruon  ineruon  ineruon  \n",
      "\n"
     ]
    }
   ],
   "source": [
    "#q1 : create a program to display the folowing output\n",
    "#ineruon \n",
    "#ineruon ineruon \n",
    "#ineruon ineruon ineruon\n",
    "#ineruon ineruon ineruon ineruon\n",
    "\n",
    "n = 4 \n",
    "for i in range(n) :\n",
    "    for j in range(0 ,i+1) : \n",
    "        print(\"ineruon\" , end=\"  \")\n",
    "    print(\"\\n\")"
   ]
  },
  {
   "cell_type": "code",
   "execution_count": 9,
   "id": "c99bee46",
   "metadata": {},
   "outputs": [
    {
     "name": "stdout",
     "output_type": "stream",
     "text": [
      "          * \n",
      "        * * * \n",
      "      * * * * * \n",
      "    * * * * * * * \n",
      "  * * * * * * * * * \n",
      "    * * * * * * * \n",
      "      * * * * * \n",
      "        * * * \n",
      "          * \n"
     ]
    }
   ],
   "source": [
    "#Q2.\n",
    "n=4\n",
    "n=5\n",
    "for i in range(n-1):\n",
    "    for j in range(i,n):\n",
    "        print(\" \",end=\" \")\n",
    "    for j in range(i):\n",
    "        print(\"*\",end=\" \")\n",
    "    for j in range(i+1):\n",
    "        print(\"*\",end=\" \")\n",
    "    print()\n",
    "for i in range(n):    \n",
    "    for j in range(i+1):\n",
    "        print(\" \",end=\" \")\n",
    "    for j in range(i,n-1):\n",
    "        print(\"*\",end=\" \")\n",
    "    for j in range(i,n):\n",
    "        print(\"*\",end=\" \")\n",
    "    print()\n"
   ]
  },
  {
   "cell_type": "code",
   "execution_count": 16,
   "id": "3562263f",
   "metadata": {},
   "outputs": [
    {
     "name": "stdout",
     "output_type": "stream",
     "text": [
      "[1, 2, 3, 4]\n",
      "['ineuron', 'data science']\n"
     ]
    }
   ],
   "source": [
    "#q3. Try to extract all list entity\n",
    "l=[[1,2,3,4],(2,3,4,5,6),(3,4,5,6,7),set([23,4,5,45,4,4,5,45,4,5]),{'k1':\"kumar\",3:6,7:8},[\"ineuron\",\"data science\"]]\n",
    "for i in l:\n",
    "    if type(i) == list:\n",
    "        print(i) "
   ]
  },
  {
   "cell_type": "code",
   "execution_count": 17,
   "id": "d3e002f8",
   "metadata": {},
   "outputs": [
    {
     "name": "stdout",
     "output_type": "stream",
     "text": [
      "{'k1': 'kumar', 3: 6, 7: 8}\n"
     ]
    }
   ],
   "source": [
    "#q4. Try to extract all dict entity\n",
    "for i in l:\n",
    "    if type(i) == dict:\n",
    "        print(i)"
   ]
  },
  {
   "cell_type": "code",
   "execution_count": 158,
   "id": "1718500b",
   "metadata": {},
   "outputs": [
    {
     "name": "stdout",
     "output_type": "stream",
     "text": [
      "{'k1': 'kumar', 3: 6, 7: 8}\n"
     ]
    }
   ],
   "source": [
    " "
   ]
  },
  {
   "cell_type": "code",
   "execution_count": 18,
   "id": "266ef035",
   "metadata": {},
   "outputs": [
    {
     "name": "stdout",
     "output_type": "stream",
     "text": [
      "(2, 3, 4, 5, 6)\n",
      "(3, 4, 5, 6, 7)\n"
     ]
    }
   ],
   "source": [
    "#q5. Try to extract all tuples entity\n",
    "for i in l:\n",
    "    if type(i) == tuple:\n",
    "        print(i)\n",
    "    "
   ]
  },
  {
   "cell_type": "code",
   "execution_count": 19,
   "id": "4e9067d3",
   "metadata": {},
   "outputs": [
    {
     "name": "stdout",
     "output_type": "stream",
     "text": [
      "1\n",
      "2\n",
      "3\n",
      "4\n",
      "2\n",
      "3\n",
      "4\n",
      "5\n",
      "6\n",
      "3\n",
      "4\n",
      "5\n",
      "6\n",
      "7\n",
      "45\n",
      "4\n",
      "5\n",
      "23\n",
      "3\n",
      "6\n",
      "7\n",
      "8\n",
      "156\n"
     ]
    },
    {
     "data": {
      "text/plain": [
       "[1, 2, 3, 4, 2, 3, 4, 5, 6, 3, 4, 5, 6, 7, 45, 4, 5, 23, 3, 6, 7, 8]"
      ]
     },
     "execution_count": 19,
     "metadata": {},
     "output_type": "execute_result"
    }
   ],
   "source": [
    "l=[[1,2,3,4],(2,3,4,5,6),(3,4,5,6,7),set([23,4,5,45,4,4,5,45,4,5]),{'k1':\"kumar\",3:6,7:8},[\"ineuron\",\"data science\"]]\n",
    "\n",
    "#q6. Try to extract all the numerical data , it may be part of key value\n",
    "#q7 : Try to give summation of all the numeric data \n",
    "l1=[]\n",
    "for i in l:\n",
    "    if type(i) == list:\n",
    "        for j in i:\n",
    "            if type(j) == int:\n",
    "                print(j)\n",
    "                l1.append(j)\n",
    "    elif type(i) == tuple:\n",
    "        for j in i:\n",
    "            if type(j) == int:\n",
    "                print(j)\n",
    "                l1.append(j)\n",
    "    elif type(i) == set:\n",
    "        for j in i:\n",
    "            if type(j) == int:\n",
    "                print(j) # for set it returns only unique numbers, but are we supposed to display all numerical elements?\n",
    "                l1.append(j)\n",
    "    if type(i) == dict:\n",
    "        for k,v in i.items():\n",
    "            if type(k) == int and type(v) == int:\n",
    "                print(k)  \n",
    "                print(v)\n",
    "                l1.append(k)\n",
    "                l1.append(v)\n",
    "count=0\n",
    "for i in l1:\n",
    "    count=count+i\n",
    "print(count) #summation of all numeric data\n",
    "l1\n",
    "    "
   ]
  },
  {
   "cell_type": "code",
   "execution_count": 25,
   "id": "e8fe7ef1",
   "metadata": {},
   "outputs": [
    {
     "name": "stdout",
     "output_type": "stream",
     "text": [
      "1\n",
      "3\n",
      "3\n",
      "5\n",
      "3\n",
      "5\n",
      "7\n",
      "45\n",
      "5\n",
      "23\n",
      "3\n",
      "7\n"
     ]
    },
    {
     "data": {
      "text/plain": [
       "[1, 2, 3, 4, 2, 3, 4, 5, 6, 3, 4, 5, 6, 7, 45, 4, 5, 23, 3, 6, 7, 8]"
      ]
     },
     "execution_count": 25,
     "metadata": {},
     "output_type": "execute_result"
    }
   ],
   "source": [
    "##q8 : Try to filter out all the odd values out all numeric data which is a part of a list \n",
    "\n",
    "for i in l1:\n",
    "    if (i % 2) !=0:\n",
    "        print(i)\n",
    "\n",
    "l1"
   ]
  },
  {
   "cell_type": "code",
   "execution_count": 26,
   "id": "f3b2f3dd",
   "metadata": {},
   "outputs": [
    {
     "data": {
      "text/plain": [
       "'ineuron'"
      ]
     },
     "execution_count": 26,
     "metadata": {},
     "output_type": "execute_result"
    }
   ],
   "source": [
    "#q9 : Try to extract \"ineruon\" out of this data\n",
    "l=[[1,2,3,4],(2,3,4,5,6),(3,4,5,6,7),set([23,4,5,45,4,4,5,45,4,5]),{'k1':\"kumar\",3:6,7:8},[\"ineuron\",\"data science\"]]\n",
    "l[5][0]"
   ]
  },
  {
   "cell_type": "code",
   "execution_count": 27,
   "id": "6577638e",
   "metadata": {},
   "outputs": [
    {
     "name": "stdout",
     "output_type": "stream",
     "text": [
      "1 is present: 1 time(s)\n",
      "2 is present: 2 time(s)\n",
      "3 is present: 4 time(s)\n",
      "4 is present: 4 time(s)\n",
      "2 is present: 2 time(s)\n",
      "3 is present: 4 time(s)\n",
      "4 is present: 4 time(s)\n",
      "5 is present: 3 time(s)\n",
      "6 is present: 3 time(s)\n",
      "3 is present: 4 time(s)\n",
      "4 is present: 4 time(s)\n",
      "5 is present: 3 time(s)\n",
      "6 is present: 3 time(s)\n",
      "7 is present: 2 time(s)\n",
      "45 is present: 1 time(s)\n",
      "4 is present: 4 time(s)\n",
      "5 is present: 3 time(s)\n",
      "23 is present: 1 time(s)\n",
      "k1 is present: 1 time(s)\n",
      "kumar is present: 1 time(s)\n",
      "3 is present: 4 time(s)\n",
      "6 is present: 3 time(s)\n",
      "7 is present: 2 time(s)\n",
      "8 is present: 1 time(s)\n",
      "ineuron is present: 1 time(s)\n",
      "data science is present: 1 time(s)\n"
     ]
    }
   ],
   "source": [
    "#q10 :Try to find out a number of occurances of all the data \n",
    "l2=[]\n",
    "for i in l:\n",
    "    if type(i) == list:\n",
    "        for j in i:\n",
    "            l2.append(j)\n",
    "    elif type(i) == set:\n",
    "        for j in i:\n",
    "            l2.append(j)\n",
    "    elif type(i) == tuple:\n",
    "        for j in i:\n",
    "            l2.append(j)\n",
    "    if type(i) == dict:\n",
    "        for k,v in i.items():\n",
    "            l2.append(k)\n",
    "            l2.append(v)\n",
    "            \n",
    "for i in l2:\n",
    "    print(i, \"is present:\" , l2.count(i) , \"time(s)\")  # How can I only see unique items and their count?"
   ]
  },
  {
   "cell_type": "code",
   "execution_count": 171,
   "id": "0a0e69b4",
   "metadata": {},
   "outputs": [
    {
     "name": "stdout",
     "output_type": "stream",
     "text": [
      "3\n"
     ]
    }
   ],
   "source": [
    "#q11 : Try to find out number of keys in dict element\n",
    "lkeys=[]\n",
    "for i in l:\n",
    "    if type(i) == dict:\n",
    "        for k,_ in i.items():\n",
    "            lkeys.append(k)\n",
    "print(len(lkeys)) # no. of keys in a dict."
   ]
  },
  {
   "cell_type": "code",
   "execution_count": 28,
   "id": "10561581",
   "metadata": {},
   "outputs": [
    {
     "name": "stdout",
     "output_type": "stream",
     "text": [
      "k1\n",
      "kumar\n",
      "ineuron\n",
      "data science\n"
     ]
    }
   ],
   "source": [
    "#q12 : Try to filter out all the string data \n",
    "\n",
    "l1=[]\n",
    "for i in l:\n",
    "    if type(i) == list:\n",
    "        for j in i:\n",
    "            if type(j) == str:\n",
    "                print(j)\n",
    "                l1.append(j)\n",
    "    elif type(i) == tuple:\n",
    "        for j in i:\n",
    "            if type(j) == str:\n",
    "                print(j)\n",
    "                l1.append(j)\n",
    "    elif type(i) == set:\n",
    "        for j in i:\n",
    "            if type(j) == str:\n",
    "                print(j) \n",
    "    if type(i) == dict:\n",
    "        for k,v in i.items():\n",
    "            if type(k) == str and type(v) == str:\n",
    "                print(k)  \n",
    "                print(v)\n",
    "                l1.append(k)\n",
    "                l1.append(v)"
   ]
  },
  {
   "cell_type": "code",
   "execution_count": 31,
   "id": "ca1cddda",
   "metadata": {},
   "outputs": [
    {
     "name": "stdout",
     "output_type": "stream",
     "text": [
      "k1\n",
      "kumar\n",
      "ineuron\n",
      "data science\n",
      "k1 : is an Alphanumeric\n",
      "kumar : is an Alphanumeric\n",
      "ineuron : is an Alphanumeric\n"
     ]
    }
   ],
   "source": [
    "#q13 : Try to Find  out alphanum in data\n",
    "\n",
    "l1=[]\n",
    "for i in l:\n",
    "    if type(i) == list:\n",
    "        for j in i:\n",
    "            if type(j) == str:\n",
    "                print(j)\n",
    "                l1.append(j)\n",
    "    elif type(i) == tuple:\n",
    "        for j in i:\n",
    "            if type(j) == str:\n",
    "                print(j)\n",
    "                l1.append(j)\n",
    "    elif type(i) == set:\n",
    "        for j in i:\n",
    "            if type(j) == str:\n",
    "                print(j) \n",
    "    if type(i) == dict:\n",
    "        for k,v in i.items():\n",
    "            if type(k) == str and type(v) == str:\n",
    "                print(k)  \n",
    "                print(v)\n",
    "                l1.append(k)\n",
    "                l1.append(v)\n",
    "for i in l1:\n",
    "    if type(i) == str:\n",
    "        if i.isalnum() == True:\n",
    "            print(i , \": is an Alphanumeric\" )\n",
    "   \n"
   ]
  },
  {
   "cell_type": "code",
   "execution_count": 32,
   "id": "7357105a",
   "metadata": {},
   "outputs": [
    {
     "name": "stdout",
     "output_type": "stream",
     "text": [
      "1\n",
      "2\n",
      "3\n",
      "4\n",
      "2\n",
      "3\n",
      "4\n",
      "5\n",
      "6\n",
      "3\n",
      "4\n",
      "5\n",
      "6\n",
      "7\n",
      "45\n",
      "4\n",
      "5\n",
      "23\n",
      "3\n",
      "6\n",
      "7\n",
      "8\n",
      "908605071360000\n"
     ]
    }
   ],
   "source": [
    "#q14 : Try to find out multiplication of all numeric value in  the individual collection inside dataset\n",
    "\n",
    "l1=[]\n",
    "for i in l:\n",
    "    if type(i) == list:\n",
    "        for j in i:\n",
    "            if type(j) == int:\n",
    "                print(j)\n",
    "                l1.append(j)\n",
    "    elif type(i) == tuple:\n",
    "        for j in i:\n",
    "            if type(j) == int:\n",
    "                print(j)\n",
    "                l1.append(j)\n",
    "    elif type(i) == set:\n",
    "        for j in i:\n",
    "            if type(j) == int:\n",
    "                print(j) \n",
    "                l1.append(j)\n",
    "    if type(i) == dict:\n",
    "        for k,v in i.items():\n",
    "            if type(k) == int and type(v) == int:\n",
    "                print(k)  \n",
    "                print(v)\n",
    "                l1.append(k)\n",
    "                l1.append(v)\n",
    "FinalValue=1\n",
    "for i in l1:\n",
    "    FinalValue=FinalValue*i\n",
    "print(FinalValue) #Multiplication of all numeric data\n",
    "\n",
    "    "
   ]
  },
  {
   "cell_type": "code",
   "execution_count": 33,
   "id": "de5cfbb2",
   "metadata": {},
   "outputs": [
    {
     "name": "stdout",
     "output_type": "stream",
     "text": [
      "[1, 2, 3, 4, 2, 3, 4, 5, 6, 3, 4, 5, 6, 7, 45, 4, 5, 23, 'k1', 'kumar', 3, 6, 7, 8, 'ineuron', 'data science']\n"
     ]
    }
   ],
   "source": [
    "#q15 : Try to unwrape all the collection inside collection and create a flat list \n",
    "l3=[]\n",
    "for i in l:\n",
    "    if type(i) == list:\n",
    "        for j in i:\n",
    "            l3.append(j)\n",
    "    elif type(i) == set:\n",
    "        for j in i:\n",
    "            l3.append(j)\n",
    "    elif type(i) == tuple:\n",
    "        for j in i:\n",
    "            l3.append(j)\n",
    "    if type(i) == dict:\n",
    "        for k,v in i.items():\n",
    "            l3.append(k)\n",
    "            l3.append(v)\n",
    "print(l3)  # list consists of all elements from all the collections"
   ]
  },
  {
   "cell_type": "code",
   "execution_count": null,
   "id": "37e5413e",
   "metadata": {},
   "outputs": [],
   "source": []
  },
  {
   "cell_type": "code",
   "execution_count": null,
   "id": "5bafe0dd",
   "metadata": {},
   "outputs": [],
   "source": []
  }
 ],
 "metadata": {
  "kernelspec": {
   "display_name": "Python 3 (ipykernel)",
   "language": "python",
   "name": "python3"
  },
  "language_info": {
   "codemirror_mode": {
    "name": "ipython",
    "version": 3
   },
   "file_extension": ".py",
   "mimetype": "text/x-python",
   "name": "python",
   "nbconvert_exporter": "python",
   "pygments_lexer": "ipython3",
   "version": "3.9.7"
  }
 },
 "nbformat": 4,
 "nbformat_minor": 5
}
